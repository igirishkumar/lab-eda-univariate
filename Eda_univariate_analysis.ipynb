{
 "cells": [
  {
   "cell_type": "markdown",
   "id": "5b51ab8a",
   "metadata": {},
   "source": [
    "EDA Univariate Analysis: Diving into Amazon UK Product Insights\n",
    "\n",
    "**Objective**: Explore the product listing dynamics on Amazon UK to extract actionable business insights. By understanding the distribution, central tendencies, and relationships of various product attributes, businesses can make more informed decisions on product positioning, pricing strategies, and inventory management.\n",
    "\n",
    "**Dataset**: This lab utilizes the [Amazon UK product dataset](https://www.kaggle.com/datasets/asaniczka/uk-optimal-product-price-prediction/)\n",
    "which provides information on product categories, brands, prices, ratings, and more from from Amazon UK. You'll need to download it to start working with it."
   ]
  },
  {
   "cell_type": "code",
   "execution_count": 18,
   "id": "1ecb5b4a",
   "metadata": {},
   "outputs": [],
   "source": [
    "import pandas as pd\n",
    "import numpy as np\n",
    "import seaborn as sns\n",
    "import matplotlib.pyplot as plt"
   ]
  },
  {
   "cell_type": "code",
   "execution_count": 2,
   "id": "b89b1466",
   "metadata": {},
   "outputs": [],
   "source": [
    "#%pip install kagglehub"
   ]
  },
  {
   "cell_type": "code",
   "execution_count": 3,
   "id": "38387b99",
   "metadata": {},
   "outputs": [],
   "source": [
    "# import kagglehub\n",
    "\n",
    "# # Download latest version\n",
    "# path = kagglehub.dataset_download(\"asaniczka/uk-optimal-product-price-prediction\")\n",
    "\n",
    "# print(\"Path to dataset files:\", path)"
   ]
  },
  {
   "cell_type": "code",
   "execution_count": 4,
   "id": "00cd18a8",
   "metadata": {},
   "outputs": [],
   "source": [
    "amazon_uk_prod = pd.read_csv(\"../datasets/amz_uk_price_prediction_dataset.csv\")"
   ]
  },
  {
   "cell_type": "code",
   "execution_count": 5,
   "id": "7304a2c8",
   "metadata": {},
   "outputs": [
    {
     "data": {
      "text/plain": [
       "Index(['uid', 'asin', 'title', 'stars', 'reviews', 'price', 'isBestSeller',\n",
       "       'boughtInLastMonth', 'category'],\n",
       "      dtype='object')"
      ]
     },
     "execution_count": 5,
     "metadata": {},
     "output_type": "execute_result"
    }
   ],
   "source": [
    "amazon_uk_prod.columns"
   ]
  },
  {
   "cell_type": "code",
   "execution_count": 6,
   "id": "50740662",
   "metadata": {},
   "outputs": [
    {
     "data": {
      "text/html": [
       "<div>\n",
       "<style scoped>\n",
       "    .dataframe tbody tr th:only-of-type {\n",
       "        vertical-align: middle;\n",
       "    }\n",
       "\n",
       "    .dataframe tbody tr th {\n",
       "        vertical-align: top;\n",
       "    }\n",
       "\n",
       "    .dataframe thead th {\n",
       "        text-align: right;\n",
       "    }\n",
       "</style>\n",
       "<table border=\"1\" class=\"dataframe\">\n",
       "  <thead>\n",
       "    <tr style=\"text-align: right;\">\n",
       "      <th></th>\n",
       "      <th>uid</th>\n",
       "      <th>asin</th>\n",
       "      <th>title</th>\n",
       "      <th>stars</th>\n",
       "      <th>reviews</th>\n",
       "      <th>price</th>\n",
       "      <th>isBestSeller</th>\n",
       "      <th>boughtInLastMonth</th>\n",
       "      <th>category</th>\n",
       "    </tr>\n",
       "  </thead>\n",
       "  <tbody>\n",
       "    <tr>\n",
       "      <th>0</th>\n",
       "      <td>1</td>\n",
       "      <td>B09B96TG33</td>\n",
       "      <td>Echo Dot (5th generation, 2022 release) | Big ...</td>\n",
       "      <td>4.7</td>\n",
       "      <td>15308</td>\n",
       "      <td>21.99</td>\n",
       "      <td>False</td>\n",
       "      <td>0</td>\n",
       "      <td>Hi-Fi Speakers</td>\n",
       "    </tr>\n",
       "    <tr>\n",
       "      <th>1</th>\n",
       "      <td>2</td>\n",
       "      <td>B01HTH3C8S</td>\n",
       "      <td>Anker Soundcore mini, Super-Portable Bluetooth...</td>\n",
       "      <td>4.7</td>\n",
       "      <td>98099</td>\n",
       "      <td>23.99</td>\n",
       "      <td>True</td>\n",
       "      <td>0</td>\n",
       "      <td>Hi-Fi Speakers</td>\n",
       "    </tr>\n",
       "    <tr>\n",
       "      <th>2</th>\n",
       "      <td>3</td>\n",
       "      <td>B09B8YWXDF</td>\n",
       "      <td>Echo Dot (5th generation, 2022 release) | Big ...</td>\n",
       "      <td>4.7</td>\n",
       "      <td>15308</td>\n",
       "      <td>21.99</td>\n",
       "      <td>False</td>\n",
       "      <td>0</td>\n",
       "      <td>Hi-Fi Speakers</td>\n",
       "    </tr>\n",
       "    <tr>\n",
       "      <th>3</th>\n",
       "      <td>4</td>\n",
       "      <td>B09B8T5VGV</td>\n",
       "      <td>Echo Dot with clock (5th generation, 2022 rele...</td>\n",
       "      <td>4.7</td>\n",
       "      <td>7205</td>\n",
       "      <td>31.99</td>\n",
       "      <td>False</td>\n",
       "      <td>0</td>\n",
       "      <td>Hi-Fi Speakers</td>\n",
       "    </tr>\n",
       "    <tr>\n",
       "      <th>4</th>\n",
       "      <td>5</td>\n",
       "      <td>B09WX6QD65</td>\n",
       "      <td>Introducing Echo Pop | Full sound compact Wi-F...</td>\n",
       "      <td>4.6</td>\n",
       "      <td>1881</td>\n",
       "      <td>17.99</td>\n",
       "      <td>False</td>\n",
       "      <td>0</td>\n",
       "      <td>Hi-Fi Speakers</td>\n",
       "    </tr>\n",
       "  </tbody>\n",
       "</table>\n",
       "</div>"
      ],
      "text/plain": [
       "   uid        asin                                              title  stars  \\\n",
       "0    1  B09B96TG33  Echo Dot (5th generation, 2022 release) | Big ...    4.7   \n",
       "1    2  B01HTH3C8S  Anker Soundcore mini, Super-Portable Bluetooth...    4.7   \n",
       "2    3  B09B8YWXDF  Echo Dot (5th generation, 2022 release) | Big ...    4.7   \n",
       "3    4  B09B8T5VGV  Echo Dot with clock (5th generation, 2022 rele...    4.7   \n",
       "4    5  B09WX6QD65  Introducing Echo Pop | Full sound compact Wi-F...    4.6   \n",
       "\n",
       "   reviews  price  isBestSeller  boughtInLastMonth        category  \n",
       "0    15308  21.99         False                  0  Hi-Fi Speakers  \n",
       "1    98099  23.99          True                  0  Hi-Fi Speakers  \n",
       "2    15308  21.99         False                  0  Hi-Fi Speakers  \n",
       "3     7205  31.99         False                  0  Hi-Fi Speakers  \n",
       "4     1881  17.99         False                  0  Hi-Fi Speakers  "
      ]
     },
     "execution_count": 6,
     "metadata": {},
     "output_type": "execute_result"
    }
   ],
   "source": [
    "amazon_uk_prod.head()"
   ]
  },
  {
   "cell_type": "code",
   "execution_count": 22,
   "id": "216d6af0",
   "metadata": {},
   "outputs": [
    {
     "data": {
      "text/plain": [
       "(2443651, 9)"
      ]
     },
     "execution_count": 22,
     "metadata": {},
     "output_type": "execute_result"
    }
   ],
   "source": [
    "amazon_uk_prod.shape"
   ]
  },
  {
   "cell_type": "code",
   "execution_count": 7,
   "id": "27d2ec6d",
   "metadata": {},
   "outputs": [
    {
     "data": {
      "text/html": [
       "<div>\n",
       "<style scoped>\n",
       "    .dataframe tbody tr th:only-of-type {\n",
       "        vertical-align: middle;\n",
       "    }\n",
       "\n",
       "    .dataframe tbody tr th {\n",
       "        vertical-align: top;\n",
       "    }\n",
       "\n",
       "    .dataframe thead th {\n",
       "        text-align: right;\n",
       "    }\n",
       "</style>\n",
       "<table border=\"1\" class=\"dataframe\">\n",
       "  <thead>\n",
       "    <tr style=\"text-align: right;\">\n",
       "      <th></th>\n",
       "      <th>uid</th>\n",
       "      <th>stars</th>\n",
       "      <th>reviews</th>\n",
       "      <th>price</th>\n",
       "      <th>boughtInLastMonth</th>\n",
       "    </tr>\n",
       "  </thead>\n",
       "  <tbody>\n",
       "    <tr>\n",
       "      <th>count</th>\n",
       "      <td>2.443651e+06</td>\n",
       "      <td>2.443651e+06</td>\n",
       "      <td>2.443651e+06</td>\n",
       "      <td>2.443651e+06</td>\n",
       "      <td>2.443651e+06</td>\n",
       "    </tr>\n",
       "    <tr>\n",
       "      <th>mean</th>\n",
       "      <td>1.370545e+06</td>\n",
       "      <td>2.152836e+00</td>\n",
       "      <td>4.806278e+02</td>\n",
       "      <td>8.924381e+01</td>\n",
       "      <td>2.589699e+01</td>\n",
       "    </tr>\n",
       "    <tr>\n",
       "      <th>std</th>\n",
       "      <td>8.160562e+05</td>\n",
       "      <td>2.194865e+00</td>\n",
       "      <td>5.944124e+03</td>\n",
       "      <td>3.456089e+02</td>\n",
       "      <td>2.404837e+02</td>\n",
       "    </tr>\n",
       "    <tr>\n",
       "      <th>min</th>\n",
       "      <td>1.000000e+00</td>\n",
       "      <td>0.000000e+00</td>\n",
       "      <td>0.000000e+00</td>\n",
       "      <td>0.000000e+00</td>\n",
       "      <td>0.000000e+00</td>\n",
       "    </tr>\n",
       "    <tr>\n",
       "      <th>25%</th>\n",
       "      <td>6.589215e+05</td>\n",
       "      <td>0.000000e+00</td>\n",
       "      <td>0.000000e+00</td>\n",
       "      <td>9.990000e+00</td>\n",
       "      <td>0.000000e+00</td>\n",
       "    </tr>\n",
       "    <tr>\n",
       "      <th>50%</th>\n",
       "      <td>1.349029e+06</td>\n",
       "      <td>0.000000e+00</td>\n",
       "      <td>0.000000e+00</td>\n",
       "      <td>1.909000e+01</td>\n",
       "      <td>0.000000e+00</td>\n",
       "    </tr>\n",
       "    <tr>\n",
       "      <th>75%</th>\n",
       "      <td>2.060686e+06</td>\n",
       "      <td>4.400000e+00</td>\n",
       "      <td>5.900000e+01</td>\n",
       "      <td>4.599000e+01</td>\n",
       "      <td>0.000000e+00</td>\n",
       "    </tr>\n",
       "    <tr>\n",
       "      <th>max</th>\n",
       "      <td>2.828593e+06</td>\n",
       "      <td>5.000000e+00</td>\n",
       "      <td>1.356658e+06</td>\n",
       "      <td>1.000000e+05</td>\n",
       "      <td>5.000000e+04</td>\n",
       "    </tr>\n",
       "  </tbody>\n",
       "</table>\n",
       "</div>"
      ],
      "text/plain": [
       "                uid         stars       reviews         price  \\\n",
       "count  2.443651e+06  2.443651e+06  2.443651e+06  2.443651e+06   \n",
       "mean   1.370545e+06  2.152836e+00  4.806278e+02  8.924381e+01   \n",
       "std    8.160562e+05  2.194865e+00  5.944124e+03  3.456089e+02   \n",
       "min    1.000000e+00  0.000000e+00  0.000000e+00  0.000000e+00   \n",
       "25%    6.589215e+05  0.000000e+00  0.000000e+00  9.990000e+00   \n",
       "50%    1.349029e+06  0.000000e+00  0.000000e+00  1.909000e+01   \n",
       "75%    2.060686e+06  4.400000e+00  5.900000e+01  4.599000e+01   \n",
       "max    2.828593e+06  5.000000e+00  1.356658e+06  1.000000e+05   \n",
       "\n",
       "       boughtInLastMonth  \n",
       "count       2.443651e+06  \n",
       "mean        2.589699e+01  \n",
       "std         2.404837e+02  \n",
       "min         0.000000e+00  \n",
       "25%         0.000000e+00  \n",
       "50%         0.000000e+00  \n",
       "75%         0.000000e+00  \n",
       "max         5.000000e+04  "
      ]
     },
     "execution_count": 7,
     "metadata": {},
     "output_type": "execute_result"
    }
   ],
   "source": [
    "amazon_uk_prod.describe()"
   ]
  },
  {
   "cell_type": "code",
   "execution_count": 8,
   "id": "62b0d13c",
   "metadata": {},
   "outputs": [
    {
     "name": "stdout",
     "output_type": "stream",
     "text": [
      "<class 'pandas.core.frame.DataFrame'>\n",
      "RangeIndex: 2443651 entries, 0 to 2443650\n",
      "Data columns (total 9 columns):\n",
      " #   Column             Dtype  \n",
      "---  ------             -----  \n",
      " 0   uid                int64  \n",
      " 1   asin               object \n",
      " 2   title              object \n",
      " 3   stars              float64\n",
      " 4   reviews            int64  \n",
      " 5   price              float64\n",
      " 6   isBestSeller       bool   \n",
      " 7   boughtInLastMonth  int64  \n",
      " 8   category           object \n",
      "dtypes: bool(1), float64(2), int64(3), object(3)\n",
      "memory usage: 151.5+ MB\n"
     ]
    }
   ],
   "source": [
    "amazon_uk_prod.info()"
   ]
  },
  {
   "cell_type": "markdown",
   "id": "6dcbab06",
   "metadata": {},
   "source": [
    "### Part 1: Understanding Product Categories\n",
    "\n",
    "**Business Question**: What are the most popular product categories on Amazon UK, and how do they compare in terms of listing frequency?\n",
    "\n",
    "1. **Frequency Tables**:\n",
    "    - Generate a frequency table for the product `category`.\n",
    "    - Which are the top 5 most listed product categories?\n",
    "\n"
   ]
  },
  {
   "cell_type": "code",
   "execution_count": 9,
   "id": "0633fda5",
   "metadata": {},
   "outputs": [
    {
     "data": {
      "text/html": [
       "<div>\n",
       "<style scoped>\n",
       "    .dataframe tbody tr th:only-of-type {\n",
       "        vertical-align: middle;\n",
       "    }\n",
       "\n",
       "    .dataframe tbody tr th {\n",
       "        vertical-align: top;\n",
       "    }\n",
       "\n",
       "    .dataframe thead th {\n",
       "        text-align: right;\n",
       "    }\n",
       "</style>\n",
       "<table border=\"1\" class=\"dataframe\">\n",
       "  <thead>\n",
       "    <tr style=\"text-align: right;\">\n",
       "      <th></th>\n",
       "      <th>category</th>\n",
       "      <th>category_freq</th>\n",
       "    </tr>\n",
       "  </thead>\n",
       "  <tbody>\n",
       "    <tr>\n",
       "      <th>0</th>\n",
       "      <td>Sports &amp; Outdoors</td>\n",
       "      <td>836265</td>\n",
       "    </tr>\n",
       "    <tr>\n",
       "      <th>1</th>\n",
       "      <td>Beauty</td>\n",
       "      <td>19312</td>\n",
       "    </tr>\n",
       "    <tr>\n",
       "      <th>2</th>\n",
       "      <td>Handmade Clothing, Shoes &amp; Accessories</td>\n",
       "      <td>19229</td>\n",
       "    </tr>\n",
       "    <tr>\n",
       "      <th>3</th>\n",
       "      <td>Bath &amp; Body</td>\n",
       "      <td>19092</td>\n",
       "    </tr>\n",
       "    <tr>\n",
       "      <th>4</th>\n",
       "      <td>Birthday Gifts</td>\n",
       "      <td>18978</td>\n",
       "    </tr>\n",
       "    <tr>\n",
       "      <th>...</th>\n",
       "      <td>...</td>\n",
       "      <td>...</td>\n",
       "    </tr>\n",
       "    <tr>\n",
       "      <th>291</th>\n",
       "      <td>Motorbike Chassis</td>\n",
       "      <td>107</td>\n",
       "    </tr>\n",
       "    <tr>\n",
       "      <th>292</th>\n",
       "      <td>Alexa Built-In Devices</td>\n",
       "      <td>107</td>\n",
       "    </tr>\n",
       "    <tr>\n",
       "      <th>293</th>\n",
       "      <td>Plugs</td>\n",
       "      <td>107</td>\n",
       "    </tr>\n",
       "    <tr>\n",
       "      <th>294</th>\n",
       "      <td>Smart Home Security &amp; Lighting</td>\n",
       "      <td>104</td>\n",
       "    </tr>\n",
       "    <tr>\n",
       "      <th>295</th>\n",
       "      <td>Smart Speakers</td>\n",
       "      <td>54</td>\n",
       "    </tr>\n",
       "  </tbody>\n",
       "</table>\n",
       "<p>296 rows × 2 columns</p>\n",
       "</div>"
      ],
      "text/plain": [
       "                                   category  category_freq\n",
       "0                         Sports & Outdoors         836265\n",
       "1                                    Beauty          19312\n",
       "2    Handmade Clothing, Shoes & Accessories          19229\n",
       "3                               Bath & Body          19092\n",
       "4                            Birthday Gifts          18978\n",
       "..                                      ...            ...\n",
       "291                       Motorbike Chassis            107\n",
       "292                  Alexa Built-In Devices            107\n",
       "293                                   Plugs            107\n",
       "294          Smart Home Security & Lighting            104\n",
       "295                          Smart Speakers             54\n",
       "\n",
       "[296 rows x 2 columns]"
      ]
     },
     "execution_count": 9,
     "metadata": {},
     "output_type": "execute_result"
    }
   ],
   "source": [
    "\n",
    "freq_df = amazon_uk_prod['category'].value_counts().reset_index()\n",
    "freq_df.columns = ['category', 'category_freq']\n",
    "freq_df\n"
   ]
  },
  {
   "cell_type": "markdown",
   "id": "d14ef96d",
   "metadata": {},
   "source": [
    "2. **Visualizations**:\n",
    "    - Display the distribution of products across different categories using a bar chart. *If you face problems understanding the chart, do it for a subset of top categories.*\n",
    "    - For a subset of top categories, visualize their proportions using a pie chart. Does any category dominate the listings?"
   ]
  },
  {
   "cell_type": "code",
   "execution_count": 10,
   "id": "33a098fa",
   "metadata": {},
   "outputs": [
    {
     "data": {
      "image/png": "[encoded data removed]",
      "text/plain": [
       "<Figure size 640x480 with 1 Axes>"
      ]
     },
     "metadata": {},
     "output_type": "display_data"
    }
   ],
   "source": [
    "\n",
    "sns.barplot(\n",
    "    x=\"category\",\n",
    "    y=\"category_freq\",\n",
    "    hue=\"category\",      \n",
    "    data=freq_df.head(5),\n",
    "    palette=\"viridis\",\n",
    "    legend=False\n",
    ")\n",
    "\n",
    "plt.xticks(rotation=90)\n",
    "plt.show()"
   ]
  },
  {
   "cell_type": "code",
   "execution_count": 11,
   "id": "794ffbb8",
   "metadata": {},
   "outputs": [
    {
     "data": {
      "image/png": "[encoded data removed]",
      "text/plain": [
       "<Figure size 800x800 with 1 Axes>"
      ]
     },
     "metadata": {},
     "output_type": "display_data"
    }
   ],
   "source": [
    "import matplotlib.pyplot as plt\n",
    "import seaborn as sns\n",
    "\n",
    "# ensure freq_df has columns ['category', 'category_freq']\n",
    "top5 = freq_df.set_index('category')['category_freq'].head(5)\n",
    "\n",
    "# plot\n",
    "plt.figure(figsize=(8,8))\n",
    "top5.plot.pie(\n",
    "    autopct='%1.2f%%',\n",
    "    startangle=180,\n",
    "    colors=sns.color_palette('Set2'),\n",
    "    ylabel=''          # remove automatic y-label\n",
    ")\n",
    "plt.axis('equal')      # keep the pie circular\n",
    "plt.title('Top 5 Categories by Frequency')\n",
    "plt.tight_layout()\n",
    "plt.show()\n"
   ]
  },
  {
   "cell_type": "markdown",
   "id": "f3ec1b7f",
   "metadata": {},
   "source": [
    "### Part 2: Delving into Product Pricing\n",
    "\n",
    "**Business Question**: How are products priced on Amazon UK, and are there specific price points or ranges that are more common?\n",
    "\n",
    "1. **Measures of Centrality**:\n",
    "    - Calculate the mean, median, and mode for the `price` of products.\n",
    "    - What's the average price point of products listed? How does this compare with the most common price point (mode)?\n",
    "\n",
    "2. **Measures of Dispersion**:\n",
    "    - Determine the variance, standard deviation, range, and interquartile range for product `price`.\n",
    "    - How varied are the product prices? Are there any indicators of a significant spread in prices?\n",
    "\n",
    "3. **Visualizations**:\n",
    "    - Is there a specific price range where most products fall? Plot a histogram to visualize the distribution of product prices. *If its hard to read these diagrams, think why this is, and explain how it could be solved.*.\n",
    "    - Are there products that are priced significantly higher than the rest? Use a box plot to showcase the spread and potential outliers in product pricing. \n"
   ]
  },
  {
   "cell_type": "code",
   "execution_count": 15,
   "id": "0696abe6",
   "metadata": {},
   "outputs": [
    {
     "data": {
      "text/plain": [
       "(np.float64(89.24380943923663),\n",
       " 19.09,\n",
       " np.float64(9.99),\n",
       " np.int64(48922),\n",
       " [9.99])"
      ]
     },
     "execution_count": 15,
     "metadata": {},
     "output_type": "execute_result"
    }
   ],
   "source": [
    "from scipy import stats\n",
    "\n",
    "prices = amazon_uk_prod['price'].dropna()\n",
    "\n",
    "mean_price = prices.mean()\n",
    "median_price = prices.median()\n",
    "mode_res = stats.mode(prices, keepdims=True)\n",
    "mode_value = mode_res.mode[0]\n",
    "mode_count = mode_res.count[0]\n",
    "\n",
    "\n",
    "pandas_modes = prices.mode().tolist()\n",
    "\n",
    "mean_price, median_price, mode_value, mode_count, pandas_modes\n"
   ]
  },
  {
   "cell_type": "code",
   "execution_count": 16,
   "id": "cb43bcf0",
   "metadata": {},
   "outputs": [
    {
     "name": "stdout",
     "output_type": "stream",
     "text": [
      "Variance: 119445.49\n",
      "Standard Deviation: 345.61\n",
      "Range: 100000.00\n",
      "IQR (Interquartile Range): 36.00\n"
     ]
    }
   ],
   "source": [
    "# Basic measures of dispersion\n",
    "variance = amazon_uk_prod[\"price\"].var()\n",
    "std_dev = amazon_uk_prod[\"price\"].std()\n",
    "price_range = amazon_uk_prod[\"price\"].max() - amazon_uk_prod[\"price\"].min()\n",
    "\n",
    "# Interquartile Range (IQR)\n",
    "Q1 = amazon_uk_prod[\"price\"].quantile(0.25)\n",
    "Q3 = amazon_uk_prod[\"price\"].quantile(0.75)\n",
    "iqr = Q3 - Q1\n",
    "\n",
    "print(f\"Variance: {variance:.2f}\")\n",
    "print(f\"Standard Deviation: {std_dev:.2f}\")\n",
    "print(f\"Range: {price_range:.2f}\")\n",
    "print(f\"IQR (Interquartile Range): {iqr:.2f}\")"
   ]
  },
  {
   "cell_type": "markdown",
   "id": "d5df3697",
   "metadata": {},
   "source": [
    "Variance = 119,445.49 and Standard deviation ≈ 345.61 show that prices are spread out a lot around the mean.\n",
    "\n",
    "Range = 100,000 tells us there is at least one price that is extremely different from the rest (an extreme outlier).\n",
    "\n",
    "IQR = 36 means the middle 50% of prices lie within a narrow band of width 36 (e.g., from Q1 to Q3), so most products are clustered closely together."
   ]
  },
  {
   "cell_type": "code",
   "execution_count": 30,
   "id": "eecd8fee",
   "metadata": {},
   "outputs": [
    {
     "data": {
      "image/png": "[encoded data removed]",
      "text/plain": [
       "<Figure size 1000x400 with 2 Axes>"
      ]
     },
     "metadata": {},
     "output_type": "display_data"
    },
    {
     "data": {
      "image/png": "[encoded data removed]",
      "text/plain": [
       "<Figure size 640x480 with 1 Axes>"
      ]
     },
     "metadata": {},
     "output_type": "display_data"
    }
   ],
   "source": [
    "import matplotlib.pyplot as plt\n",
    "fig, axes = plt.subplots(1,2, figsize=(10,4))\n",
    "amazon_uk_prod['price'].plot.box(ax=axes[0])\n",
    "amazon_uk_prod['price'].hist(bins=50, ax=axes[1])\n",
    "plt.show()\n",
    "\n",
    "# Log view\n",
    "amazon_uk_prod.loc[amazon_uk_prod['price']>0, 'price'].apply(np.log1p).hist(bins=50)\n",
    "plt.ylabel('Price')\n",
    "plt.xlabel('Number of Products')\n",
    "plt.title('Log-scaled prices')\n",
    "plt.show()\n"
   ]
  },
  {
   "cell_type": "code",
   "execution_count": 21,
   "id": "9ecca4d7",
   "metadata": {},
   "outputs": [
    {
     "data": {
      "text/plain": [
       "(327688,\n",
       "         price                                          category\n",
       " 0   100000.00                                 Sports & Outdoors\n",
       " 1    77752.00                                       Desktop PCs\n",
       " 2    24674.59                          Garden Storage & Housing\n",
       " 3    23482.73                            Scanners & Accessories\n",
       " 4    22933.42                                        Projectors\n",
       " 5    21999.00                                 Sports & Outdoors\n",
       " 6    21999.00                                 Sports & Outdoors\n",
       " 7    21464.82                          Garden Storage & Housing\n",
       " 8    21464.82                          Garden Storage & Housing\n",
       " 9    21464.82                          Garden Storage & Housing\n",
       " 10   20489.75                                 Sports & Outdoors\n",
       " 11   20216.00  Uninterruptible Power Supply Units & Accessories\n",
       " 12   20015.45                                 Sports & Outdoors\n",
       " 13   19999.00                                 Sports & Outdoors\n",
       " 14   19999.00                                 Sports & Outdoors\n",
       " 15   19999.00                                 Sports & Outdoors\n",
       " 16   19999.00                                 Sports & Outdoors\n",
       " 17   19990.00                                 Sports & Outdoors\n",
       " 18   19290.93                        Material Handling Products\n",
       " 19   19211.51                            Scanners & Accessories)"
      ]
     },
     "execution_count": 21,
     "metadata": {},
     "output_type": "execute_result"
    }
   ],
   "source": [
    "import numpy as np\n",
    "import pandas as pd\n",
    "from scipy import stats  # optional for zscore method\n",
    "\n",
    "# assume df has columns 'price' and 'category'\n",
    "prices = amazon_uk_prod['price'].dropna()\n",
    "\n",
    "# IQR method\n",
    "q1 = prices.quantile(0.25)\n",
    "q3 = prices.quantile(0.75)\n",
    "iqr = q3 - q1\n",
    "lower_bound = q1 - 1.5 * iqr\n",
    "upper_bound = q3 + 1.5 * iqr\n",
    "\n",
    "# boolean mask of outliers\n",
    "outlier_mask = (amazon_uk_prod['price'] < lower_bound) | (amazon_uk_prod['price'] > upper_bound)\n",
    "\n",
    "# dataframe of outliers with category\n",
    "outliers_df = amazon_uk_prod.loc[outlier_mask, ['price', 'category']].copy()\n",
    "outliers_df = outliers_df.sort_values('price', ascending=False).reset_index(drop=True)\n",
    "\n",
    "# summary: how many outliers and sample rows\n",
    "num_outliers = len(outliers_df)\n",
    "top_outliers = outliers_df.head(20)      # inspect top 20 extreme values\n",
    "\n",
    "num_outliers, top_outliers\n"
   ]
  },
  {
   "cell_type": "markdown",
   "id": "2d50213f",
   "metadata": {},
   "source": [
    "### Part 3: Unpacking Product Ratings\n",
    "\n",
    "**Business Question**: How do customers rate products on Amazon UK, and are there any patterns or tendencies in the ratings?\n",
    "\n",
    "1. **Measures of Centrality**:\n",
    "    - Calculate the mean, median, and mode for the `rating` of products.\n",
    "    - How do customers generally rate products? Is there a common trend?\n",
    "\n"
   ]
  },
  {
   "cell_type": "code",
   "execution_count": 31,
   "id": "9180ef25",
   "metadata": {},
   "outputs": [
    {
     "name": "stdout",
     "output_type": "stream",
     "text": [
      "=== Product Rating Analysis ===\n",
      "Mean stars:   2.15\n",
      "Median stars: 0.00\n",
      "Mode stars:   0.00\n",
      "Products tend to receive lower ratings from customers.\n",
      "Ratings distribution is complex, with no clear skewness.\n"
     ]
    }
   ],
   "source": [
    "# Calculate measures of centrality for ratings\n",
    "mean_rating = amazon_uk_prod['stars'].mean()\n",
    "median_rating = amazon_uk_prod['stars'].median()\n",
    "mode_rating = amazon_uk_prod['stars'].mode()[0]\n",
    "print(\"=== Product Rating Analysis ===\")\n",
    "print(f\"Mean stars:   {mean_rating:.2f}\")\n",
    "print(f\"Median stars: {median_rating:.2f}\")\n",
    "print(f\"Mode stars:   {mode_rating:.2f}\")\n",
    "#How customers generally rate products\n",
    "if mean_rating > 4.0:\n",
    "    print(\"Overall, products are rated highly by customers.\")\n",
    "elif mean_rating > 3.0:\n",
    "    print(\"Products receive moderate ratings from customers.\")\n",
    "else:\n",
    "    print(\"Products tend to receive lower ratings from customers.\")\n",
    "# Is there common trend in ratings?\n",
    "if mean_rating == median_rating == mode_rating:\n",
    "    print(\"Ratings are symmetrically distributed around the mean.\")\n",
    "elif mean_rating > median_rating > mode_rating:\n",
    "    print(\"Ratings are right-skewed, with some lower ratings pulling the mean down.\")\n",
    "elif mean_rating < median_rating < mode_rating:\n",
    "    print(\"Ratings are left-skewed, with some higher ratings pulling the mean up.\")\n",
    "else:\n",
    "    print(\"Ratings distribution is complex, with no clear skewness.\")"
   ]
  },
  {
   "cell_type": "markdown",
   "id": "54534b2f",
   "metadata": {},
   "source": [
    "#### Interpretation: \n",
    "\n",
    "The fact that both median and mode are zero while the mean is 2.15 suggests a heavily skewed or bimodal distribution. Many ratings are zero, but there’s also a cluster of higher ratings pulling the mean upward."
   ]
  },
  {
   "cell_type": "markdown",
   "id": "87d60ccf",
   "metadata": {},
   "source": [
    "2. **Measures of Dispersion**:\n",
    "    - Determine the variance, standard deviation, and interquartile range for product `rating`.\n",
    "    - Are the ratings consistent, or is there a wide variation in customer feedback?\n",
    "\n"
   ]
  },
  {
   "cell_type": "code",
   "execution_count": 32,
   "id": "084ff44e",
   "metadata": {},
   "outputs": [
    {
     "name": "stdout",
     "output_type": "stream",
     "text": [
      "Variance: 4.8174\n",
      "Standard Deviation: 2.1949\n",
      "IQR (Interquartile Range): 4.40\n"
     ]
    }
   ],
   "source": [
    "\n",
    "variance_stars = amazon_uk_prod[\"stars\"].var()\n",
    "std_stars = amazon_uk_prod[\"stars\"].std()\n",
    "Q1_stars = amazon_uk_prod[\"stars\"].quantile(0.25)\n",
    "Q3_stars = amazon_uk_prod[\"stars\"].quantile(0.75)\n",
    "iqr_stars = Q3_stars - Q1_stars\n",
    "\n",
    "print(f\"Variance: {variance_stars:.4f}\")\n",
    "print(f\"Standard Deviation: {std_stars:.4f}\")\n",
    "print(f\"IQR (Interquartile Range): {iqr_stars:.2f}\")"
   ]
  },
  {
   "cell_type": "markdown",
   "id": "19206321",
   "metadata": {},
   "source": [
    "3. **Shape of the Distribution**:\n",
    "    - Calculate the skewness and kurtosis for the `rating` column. \n",
    "    - Are the ratings normally distributed, or do they lean towards higher or lower values?"
   ]
  },
  {
   "cell_type": "code",
   "execution_count": 36,
   "id": "aca8cd5b",
   "metadata": {},
   "outputs": [
    {
     "name": "stdout",
     "output_type": "stream",
     "text": [
      "Skewness: 0.081\n",
      "Kurtosis: -1.926\n"
     ]
    }
   ],
   "source": [
    "skewness = amazon_uk_prod['stars'].skew()\n",
    "kurtosis = amazon_uk_prod['stars'].kurt()\n",
    "\n",
    "print(f\"Skewness: {skewness:.3f}\")\n",
    "print(f\"Kurtosis: {kurtosis:.3f}\")"
   ]
  },
  {
   "cell_type": "markdown",
   "id": "c1c8a0b7",
   "metadata": {},
   "source": [
    "Skewness near zero means ratings don’t lean strongly toward high or low values.\n",
    "\n",
    "If anything, the tiny positive skew suggests a slight lean toward higher ratings, but it’s minimal.\n",
    "\n",
    "The flat kurtosis means ratings are spread out, not tightly clustered around the mean."
   ]
  },
  {
   "cell_type": "markdown",
   "id": "83d78e44",
   "metadata": {},
   "source": [
    "4. **Visualizations**:\n",
    "    - Plot a histogram to visualize the distribution of product ratings. Is there a specific rating that is more common?"
   ]
  },
  {
   "cell_type": "code",
   "execution_count": 39,
   "id": "bb6d5910",
   "metadata": {},
   "outputs": [
    {
     "data": {
      "image/png": "[encoded data removed]",
      "text/plain": [
       "<Figure size 800x500 with 1 Axes>"
      ]
     },
     "metadata": {},
     "output_type": "display_data"
    }
   ],
   "source": [
    "plt.figure(figsize=(8,5))\n",
    "sns.histplot(amazon_uk_prod['stars'], bins=10, kde=True, color='skyblue')\n",
    "plt.title(\"Rating Distribution\")\n",
    "plt.xlabel(\"Stars\")\n",
    "plt.ylabel(\"Frequecy\")\n",
    "plt.tight_layout()\n",
    "plt.show()"
   ]
  },
  {
   "cell_type": "markdown",
   "id": "88b25beb",
   "metadata": {},
   "source": [
    "#### Interpretation: \n",
    "\n",
    "The distribution is flat and spread out, not tightly clustered. The histogram confirms this: a huge spike at 0, then a second cluster between 3 and 5. This is bimodal, not normal."
   ]
  },
  {
   "cell_type": "markdown",
   "id": "41f504fe",
   "metadata": {},
   "source": [
    "#### Final Interpretation\n",
    "\n",
    "Bimodal distribution: One peak at 0 (possibly default or missing), another between 3–5 (genuine ratings).\n",
    "\n",
    "Mean is misleading: It’s pulled up by the second peak, but doesn’t represent the bulk of ratings.\n",
    "\n",
    "Median and mode = 0: Suggest a large portion of ratings are either missing, defaulted, or reflect dissatisfaction.\n",
    "\n",
    "Flat kurtosis: Confirms that ratings are broadly spread, not tightly packed around the mean."
   ]
  },
  {
   "cell_type": "code",
   "execution_count": null,
   "id": "0feb69c1",
   "metadata": {},
   "outputs": [],
   "source": []
  }
 ],
 "metadata": {
  "kernelspec": {
   "display_name": "base",
   "language": "python",
   "name": "python3"
  },
  "language_info": {
   "codemirror_mode": {
    "name": "ipython",
    "version": 3
   },
   "file_extension": ".py",
   "mimetype": "text/x-python",
   "name": "python",
   "nbconvert_exporter": "python",
   "pygments_lexer": "ipython3",
   "version": "3.13.5"
  }
 },
 "nbformat": 4,
 "nbformat_minor": 5
}
